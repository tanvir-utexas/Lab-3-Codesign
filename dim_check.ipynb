{
 "cells": [
  {
   "cell_type": "code",
   "execution_count": 1,
   "metadata": {},
   "outputs": [],
   "source": [
    "import numpy as np"
   ]
  },
  {
   "cell_type": "code",
   "execution_count": 9,
   "metadata": {},
   "outputs": [
    {
     "data": {
      "text/plain": [
       "(2, 3, 2, 2)"
      ]
     },
     "execution_count": 9,
     "metadata": {},
     "output_type": "execute_result"
    }
   ],
   "source": [
    "a = np.random.randn(2, 3, 2, 2)\n",
    "a.shape"
   ]
  },
  {
   "cell_type": "code",
   "execution_count": 11,
   "metadata": {},
   "outputs": [
    {
     "data": {
      "text/plain": [
       "array([[[[-0.69353221,  0.55771706],\n",
       "         [-1.70512824, -2.01165492]],\n",
       "\n",
       "        [[-0.58358459, -1.69186794],\n",
       "         [-0.71188866,  0.52618517]],\n",
       "\n",
       "        [[ 2.206599  ,  0.22986657],\n",
       "         [ 0.1470696 , -0.12139693]]],\n",
       "\n",
       "\n",
       "       [[[-1.26950955,  1.51930681],\n",
       "         [-1.50478947,  0.09201779]],\n",
       "\n",
       "        [[ 1.98089238, -1.15927879],\n",
       "         [-0.38889098,  1.09631793]],\n",
       "\n",
       "        [[-0.44304926, -1.04254837],\n",
       "         [-1.0459212 , -0.14205557]]]])"
      ]
     },
     "execution_count": 11,
     "metadata": {},
     "output_type": "execute_result"
    }
   ],
   "source": [
    "a"
   ]
  },
  {
   "cell_type": "code",
   "execution_count": 12,
   "metadata": {},
   "outputs": [
    {
     "data": {
      "text/plain": [
       "numpy.ndarray"
      ]
     },
     "execution_count": 12,
     "metadata": {},
     "output_type": "execute_result"
    }
   ],
   "source": [
    "type(a)"
   ]
  },
  {
   "cell_type": "code",
   "execution_count": null,
   "metadata": {},
   "outputs": [],
   "source": []
  },
  {
   "cell_type": "code",
   "execution_count": 17,
   "metadata": {},
   "outputs": [],
   "source": [
    "a = a.reshape(a.shape[0], a.shape[1], -1 )"
   ]
  },
  {
   "cell_type": "code",
   "execution_count": 18,
   "metadata": {},
   "outputs": [
    {
     "data": {
      "text/plain": [
       "array([[[-0.69353221,  0.55771706, -1.70512824, -2.01165492],\n",
       "        [-0.58358459, -1.69186794, -0.71188866,  0.52618517],\n",
       "        [ 2.206599  ,  0.22986657,  0.1470696 , -0.12139693]],\n",
       "\n",
       "       [[-1.26950955,  1.51930681, -1.50478947,  0.09201779],\n",
       "        [ 1.98089238, -1.15927879, -0.38889098,  1.09631793],\n",
       "        [-0.44304926, -1.04254837, -1.0459212 , -0.14205557]]])"
      ]
     },
     "execution_count": 18,
     "metadata": {},
     "output_type": "execute_result"
    }
   ],
   "source": [
    "a"
   ]
  },
  {
   "cell_type": "code",
   "execution_count": 19,
   "metadata": {},
   "outputs": [
    {
     "data": {
      "text/plain": [
       "(2, 3, 4)"
      ]
     },
     "execution_count": 19,
     "metadata": {},
     "output_type": "execute_result"
    }
   ],
   "source": [
    "a.shape"
   ]
  },
  {
   "cell_type": "code",
   "execution_count": 22,
   "metadata": {},
   "outputs": [
    {
     "data": {
      "text/plain": [
       "[array([-0.69353221,  0.55771706, -1.70512824, -2.01165492]),\n",
       " array([-0.58358459, -1.69186794, -0.71188866,  0.52618517]),\n",
       " array([ 2.206599  ,  0.22986657,  0.1470696 , -0.12139693])]"
      ]
     },
     "execution_count": 22,
     "metadata": {},
     "output_type": "execute_result"
    }
   ],
   "source": [
    "list(a[0])"
   ]
  },
  {
   "cell_type": "code",
   "execution_count": 31,
   "metadata": {},
   "outputs": [
    {
     "data": {
      "text/plain": [
       "24"
      ]
     },
     "execution_count": 31,
     "metadata": {},
     "output_type": "execute_result"
    }
   ],
   "source": [
    "\n",
    "final = []\n",
    "\n",
    "for i in range(len(a)):\n",
    "    temp = [] # (out_ch, in_ch, k * k) -> list (k*k * ch)\n",
    "\n",
    "    for j in range(len(a[i])):\n",
    "        temp.append(list(a[i][j]))\n",
    "\n",
    "    temp = np.concatenate(temp)\n",
    "    temp = list(temp)\n",
    "\n",
    "    final.append(temp)\n",
    "\n",
    "final = np.concatenate(final)\n",
    "final = list(final)\n",
    "len(final)"
   ]
  },
  {
   "cell_type": "code",
   "execution_count": 83,
   "metadata": {},
   "outputs": [],
   "source": [
    "def csv_conv_tensor(tensor, path='', name = ''):\n",
    "    # tensor shape: (out, in, k, k)\n",
    "\n",
    "    array = (tensor.data.cpu().detach().numpy())\n",
    "    \n",
    "    array = array.reshape(array.shape[0], array.shape[1], -1) # (out, in, k, k) -> (out, in, k * k)\n",
    "\n",
    "    final = []\n",
    "    \n",
    "    for i in range(len(array)):\n",
    "        temp = [] # HOLDS [ k * k * in]\n",
    "        \n",
    "        for j in range(len(array[i])):\n",
    "            temp.append(list(array[i][j]))\n",
    "        \n",
    "        temp = np.concatenate(temp)\n",
    "        temp = list(temp)\n",
    "        \n",
    "        final.append(temp)\n",
    "    \n",
    "    final = np.concatenate(final)\n",
    "    df = pd.DataFrame(final)\n",
    "    df.to_csv(path + f\"{name}.csv\", index = False)\n",
    "    "
   ]
  },
  {
   "cell_type": "code",
   "execution_count": 84,
   "metadata": {},
   "outputs": [],
   "source": [
    "import torch\n",
    "\n",
    "import pandas as pd\n",
    "\n",
    "path = \"/home/tmahmud/Co-Design Tasks/Lab3_renew/Lab-3-Codesign/pruned_weights/\"\n",
    "\n",
    "tensor = torch.rand(2, 3, 3, 3)\n",
    "\n",
    "csv_conv_tensor(tensor, path=path, name = 'Conv2D')\n"
   ]
  },
  {
   "cell_type": "code",
   "execution_count": 85,
   "metadata": {},
   "outputs": [
    {
     "data": {
      "text/plain": [
       "tensor([[0.1495, 0.8866],\n",
       "        [0.5323, 0.4781],\n",
       "        [0.1065, 0.3382]])"
      ]
     },
     "execution_count": 85,
     "metadata": {},
     "output_type": "execute_result"
    }
   ],
   "source": [
    "tensor = torch.rand(3, 2)\n",
    "tensor"
   ]
  },
  {
   "cell_type": "code",
   "execution_count": 87,
   "metadata": {},
   "outputs": [
    {
     "ename": "TypeError",
     "evalue": "concat() received an invalid combination of arguments - got (Tensor, axis=int), but expected one of:\n * (tuple of Tensors tensors, int dim, *, Tensor out)\n * (tuple of Tensors tensors, name dim, *, Tensor out)\n",
     "output_type": "error",
     "traceback": [
      "\u001b[0;31m---------------------------------------------------------------------------\u001b[0m",
      "\u001b[0;31mTypeError\u001b[0m                                 Traceback (most recent call last)",
      "\u001b[0;32m<ipython-input-87-adbd2ff6050c>\u001b[0m in \u001b[0;36m<module>\u001b[0;34m\u001b[0m\n\u001b[0;32m----> 1\u001b[0;31m \u001b[0mtorch\u001b[0m\u001b[0;34m.\u001b[0m\u001b[0mconcat\u001b[0m\u001b[0;34m(\u001b[0m\u001b[0mtensor\u001b[0m\u001b[0;34m.\u001b[0m\u001b[0mdata\u001b[0m\u001b[0;34m,\u001b[0m \u001b[0maxis\u001b[0m \u001b[0;34m=\u001b[0m \u001b[0;36m1\u001b[0m\u001b[0;34m)\u001b[0m\u001b[0;34m\u001b[0m\u001b[0;34m\u001b[0m\u001b[0m\n\u001b[0m",
      "\u001b[0;31mTypeError\u001b[0m: concat() received an invalid combination of arguments - got (Tensor, axis=int), but expected one of:\n * (tuple of Tensors tensors, int dim, *, Tensor out)\n * (tuple of Tensors tensors, name dim, *, Tensor out)\n"
     ]
    }
   ],
   "source": [
    "torch.concat(tensor.data, axis = 1)"
   ]
  },
  {
   "cell_type": "code",
   "execution_count": null,
   "metadata": {},
   "outputs": [],
   "source": []
  },
  {
   "cell_type": "code",
   "execution_count": 89,
   "metadata": {},
   "outputs": [],
   "source": [
    "def csv_lin_tensor(tensor, path='', name = ''):\n",
    "\n",
    "    array = (tensor.data.cpu().detach().numpy())\n",
    "    \n",
    "    array = array.reshape(array.shape[0], array.shape[1], -1) # (out, in, k, k) -> (out, in, k * k)\n",
    "\n",
    "    final = []\n",
    "    \n",
    "    for i in range(len(array)):    \n",
    "        final.append(list(array[i]))\n",
    "    \n",
    "    final = np.concatenate(final)\n",
    "\n",
    "    df = pd.DataFrame(final)\n",
    "    \n",
    "    df.to_csv(path + f\"{name}.csv\", index = False)"
   ]
  },
  {
   "cell_type": "code",
   "execution_count": 90,
   "metadata": {},
   "outputs": [
    {
     "data": {
      "text/plain": [
       "tensor([[0.9147, 0.8458],\n",
       "        [0.6895, 0.0235],\n",
       "        [0.2476, 0.2819]])"
      ]
     },
     "execution_count": 90,
     "metadata": {},
     "output_type": "execute_result"
    }
   ],
   "source": [
    "tensor = torch.rand(3, 2)\n",
    "csv_lin_tensor(tensor, path, 'lin')\n",
    "tensor"
   ]
  },
  {
   "cell_type": "code",
   "execution_count": 8,
   "metadata": {},
   "outputs": [],
   "source": [
    "def csv_conv_tensor(tensor, path='./pruned_weights/', name = ''):\n",
    "    \"\"\"\n",
    "    Function to convert conv tensor data to 2D CSV file\n",
    "      \n",
    "    Input tensor shape: (out, in, k, k)\n",
    "\n",
    "    Store CSV: (k * k * in * out)\n",
    "\n",
    "    \"\"\"\n",
    "    array = (tensor.data.cpu().detach().numpy())\n",
    "    \n",
    "    array = array.reshape(array.shape[0], array.shape[1], -1) # (out, in, k, k) -> (out, in, k * k)\n",
    "\n",
    "    final = []\n",
    "    \n",
    "    for i in range(len(array)):\n",
    "        temp = [] # HOLDS [ k * k * in]\n",
    "        \n",
    "        for j in range(len(array[i])):\n",
    "            temp.append(list(array[i][j]))\n",
    "        \n",
    "        temp = np.concatenate(temp)\n",
    "        temp = list(temp)\n",
    "        \n",
    "        final.append(temp)\n",
    "    \n",
    "    final = np.concatenate(final)\n",
    "    print(final)\n",
    "    df = pd.DataFrame(final)\n",
    "    df_transposed = df.T\n",
    "    #print(df)\n",
    "    if 'int' in name:\n",
    "        df_transposed = df_transposed.astype(int)\n",
    "    #df_transposed.to_csv(path + f\"{name}.csv\", index=False, header=False)"
   ]
  },
  {
   "cell_type": "code",
   "execution_count": 12,
   "metadata": {},
   "outputs": [],
   "source": [
    "import torch\n",
    "import numpy as np\n",
    "import pandas as pd"
   ]
  },
  {
   "cell_type": "code",
   "execution_count": 5,
   "metadata": {},
   "outputs": [
    {
     "data": {
      "text/plain": [
       "tensor([ 0,  1,  2,  3,  4,  5,  6,  7,  8,  9, 10, 11, 12, 13, 14, 15, 16, 17])"
      ]
     },
     "execution_count": 5,
     "metadata": {},
     "output_type": "execute_result"
    }
   ],
   "source": [
    "a = torch.arange(18)\n",
    "a"
   ]
  },
  {
   "cell_type": "code",
   "execution_count": 7,
   "metadata": {},
   "outputs": [
    {
     "data": {
      "text/plain": [
       "tensor([[[[ 0,  1,  2],\n",
       "          [ 3,  4,  5],\n",
       "          [ 6,  7,  8]]],\n",
       "\n",
       "\n",
       "        [[[ 9, 10, 11],\n",
       "          [12, 13, 14],\n",
       "          [15, 16, 17]]]])"
      ]
     },
     "execution_count": 7,
     "metadata": {},
     "output_type": "execute_result"
    }
   ],
   "source": [
    "a = a.view(2, 1, 3, 3)\n",
    "a"
   ]
  },
  {
   "cell_type": "code",
   "execution_count": 13,
   "metadata": {},
   "outputs": [
    {
     "name": "stdout",
     "output_type": "stream",
     "text": [
      "[ 0  1  2  3  4  5  6  7  8  9 10 11 12 13 14 15 16 17]\n",
      "     0\n",
      "0    0\n",
      "1    1\n",
      "2    2\n",
      "3    3\n",
      "4    4\n",
      "5    5\n",
      "6    6\n",
      "7    7\n",
      "8    8\n",
      "9    9\n",
      "10  10\n",
      "11  11\n",
      "12  12\n",
      "13  13\n",
      "14  14\n",
      "15  15\n",
      "16  16\n",
      "17  17\n"
     ]
    }
   ],
   "source": [
    "csv_conv_tensor(a)"
   ]
  },
  {
   "cell_type": "code",
   "execution_count": null,
   "metadata": {},
   "outputs": [],
   "source": []
  }
 ],
 "metadata": {
  "interpreter": {
   "hash": "ce98e726be2be21857ba036d3fdf95ee4f08e504dc22796193bc279c3e0aab53"
  },
  "kernelspec": {
   "display_name": "Python 3.8.8 64-bit ('base': conda)",
   "language": "python",
   "name": "python3"
  },
  "language_info": {
   "codemirror_mode": {
    "name": "ipython",
    "version": 3
   },
   "file_extension": ".py",
   "mimetype": "text/x-python",
   "name": "python",
   "nbconvert_exporter": "python",
   "pygments_lexer": "ipython3",
   "version": "3.8.8"
  },
  "orig_nbformat": 4
 },
 "nbformat": 4,
 "nbformat_minor": 2
}
